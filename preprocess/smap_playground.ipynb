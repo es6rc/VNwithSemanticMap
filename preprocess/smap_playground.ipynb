{
 "cells": [
  {
   "cell_type": "code",
   "execution_count": 1,
   "metadata": {
    "collapsed": true,
    "pycharm": {
     "is_executing": false,
     "name": "#%%\n"
    }
   },
   "outputs": [],
   "source": [
    "from utils import environment as Env\n",
    "import operator\n",
    "import collections\n",
    "import numpy as np\n",
    "import scipy.io as sio\n",
    "def gen_loc_map(loc, mmap):\n",
    "    loc4maps = []\n",
    "    loc_map = np.zeros((11, 11))\n",
    "    xrnge = range(loc[0] - 5, loc[0] + 6); xrnge.reverse()\n",
    "    yrnge = range(loc[1] - 5, loc[1] + 6); yrnge.reverse()\n",
    "    for idy, y in enumerate(yrnge):\n",
    "        for idx, x in enumerate(xrnge):\n",
    "            if (x, y) in mmap:\n",
    "                loc_map[idy][idx] = 1\n",
    "    for i in xrange(4):\n",
    "        if i == 0:\n",
    "            loc4maps.append(loc_map)\n",
    "        else:\n",
    "            loc_map = np.rot90(loc_map)\n",
    "            loc4maps.append(loc_map)\n",
    "    \n",
    "    return np.stack(loc4maps, axis=0)\n",
    "\n"
   ]
  },
  {
   "cell_type": "code",
   "execution_count": 6,
   "outputs": [],
   "source": [
    "from gensmap import gensmap\n",
    "import cv2\n",
    "import numpy as np\n",
    "testhouse = gensmap(env='5cf0e1e9493994e483e985c436b9d3bc', sz=33)\n",
    "# localsmaps = testhouse.GenSmap()"
   ],
   "metadata": {
    "collapsed": false,
    "pycharm": {
     "name": "#%%\n",
     "is_executing": false
    }
   }
  },
  {
   "cell_type": "code",
   "execution_count": 7,
   "outputs": [
    {
     "name": "stdout",
     "text": [
      "class label index is 0, category name is toilet.\nclass label index is 1, category name is heater.\nclass label index is 2, category name is tv_stand.\nclass label index is 3, category name is mirror.\nclass label index is 4, category name is ottoman.\nclass label index is 5, category name is dressing_table.\nclass label index is 6, category name is toy.\nclass label index is 7, category name is clock.\nclass label index is 8, category name is wardrobe_cabinet.\nclass label index is 9, category name is music.\nclass label index is 10, category name is table_and_chair.\nclass label index is 11, category name is vase.\nclass label index is 12, category name is sink.\nclass label index is 13, category name is desk.\nclass label index is 14, category name is picture_frame.\nclass label index is 15, category name is bathroom_stuff.\nclass label index is 16, category name is table.\nclass label index is 17, category name is television.\nclass label index is 18, category name is shoes_cabinet.\nclass label index is 19, category name is air_conditioner.\nclass label index is 20, category name is sofa.\nclass label index is 21, category name is bed.\nclass label index is 22, category name is shower.\nclass label index is 23, category name is stand.\nclass label index is 24, category name is bathtub.\n"
     ],
     "output_type": "stream"
    }
   ],
   "source": [
    "def chksmap(localsmap, cats):\n",
    "    \n",
    "    for j in range(localsmap.shape[-1]):\n",
    "        viewbycat = np.zeros((localsmap.shape[0], localsmap.shape[1]),\n",
    "                             dtype=np.uint8)\n",
    "        viewbycat[localsmap[..., j] == 1] = 255\n",
    "        if np.sum(viewbycat) != 0:\n",
    "            # print (viewbycat)\n",
    "            print (j, cats[j])\n",
    "            cv2.imshow(\"debug\", np.transpose(viewbycat))\n",
    "            key = cv2.waitKey(0)\n",
    "            if key == ord('q'):\n",
    "                cv2.destroyAllWindows()\n",
    "# Check the local semantic maps\n",
    "import pickle\n",
    "HOUSEDIR = '/media/z/Data/Object_Searching/code/Environment/houses'\n",
    "houseid = '5cf0e1e9493994e483e985c436b9d3bc'\n",
    "\n",
    "lsmaps = pickle.load(open('%s/%s/planner_data/localsmaps_31.pkl' % (HOUSEDIR, houseid), 'rb'))\n",
    "cat = testhouse.cat\n",
    "for i, cati in enumerate(cat):\n",
    "    print ('class label index is %d, category name is %s.' % (i, cati))"
   ],
   "metadata": {
    "collapsed": false,
    "pycharm": {
     "name": "#%% \n",
     "is_executing": false
    }
   }
  },
  {
   "cell_type": "code",
   "execution_count": 4,
   "outputs": [
    {
     "name": "stdout",
     "text": [
      "(2, u'tv_stand')\n",
      "(9, u'music')\n",
      "(16, u'table')\n",
      "(17, u'television')\n(20, u'sofa')\n"
     ],
     "output_type": "stream"
    },
    {
     "ename": "IndexError",
     "evalue": "list index out of range",
     "traceback": [
      "\u001b[0;31m\u001b[0m",
      "\u001b[0;31mIndexError\u001b[0mTraceback (most recent call last)",
      "\u001b[0;32m<ipython-input-4-4abde1f80e16>\u001b[0m in \u001b[0;36m<module>\u001b[0;34m()\u001b[0m\n\u001b[0;32m----> 1\u001b[0;31m \u001b[0mchksmap\u001b[0m\u001b[0;34m(\u001b[0m\u001b[0mlsmaps\u001b[0m\u001b[0;34m[\u001b[0m\u001b[0;34m(\u001b[0m\u001b[0;36m12\u001b[0m\u001b[0;34m,\u001b[0m \u001b[0;36m23\u001b[0m\u001b[0;34m)\u001b[0m\u001b[0;34m]\u001b[0m\u001b[0;34m,\u001b[0m \u001b[0mcat\u001b[0m\u001b[0;34m)\u001b[0m\u001b[0;34m\u001b[0m\u001b[0m\n\u001b[0m\u001b[1;32m      2\u001b[0m \u001b[0;31m# chksmap(lsmaps[(12, 29)], cat)\u001b[0m\u001b[0;34m\u001b[0m\u001b[0;34m\u001b[0m\u001b[0m\n\u001b[1;32m      3\u001b[0m \u001b[0;31m### Check passedq\u001b[0m\u001b[0;34m\u001b[0m\u001b[0;34m\u001b[0m\u001b[0m\n\u001b[1;32m      4\u001b[0m \u001b[0;34m\u001b[0m\u001b[0m\n\u001b[1;32m      5\u001b[0m \u001b[0;34m\u001b[0m\u001b[0m\n",
      "\u001b[0;32m<ipython-input-3-870fd94a6267>\u001b[0m in \u001b[0;36mchksmap\u001b[0;34m(localsmap, cats)\u001b[0m\n\u001b[1;32m      7\u001b[0m         \u001b[0;32mif\u001b[0m \u001b[0mnp\u001b[0m\u001b[0;34m.\u001b[0m\u001b[0msum\u001b[0m\u001b[0;34m(\u001b[0m\u001b[0mviewbycat\u001b[0m\u001b[0;34m)\u001b[0m \u001b[0;34m!=\u001b[0m \u001b[0;36m0\u001b[0m\u001b[0;34m:\u001b[0m\u001b[0;34m\u001b[0m\u001b[0m\n\u001b[1;32m      8\u001b[0m             \u001b[0;31m# print (viewbycat)\u001b[0m\u001b[0;34m\u001b[0m\u001b[0;34m\u001b[0m\u001b[0m\n\u001b[0;32m----> 9\u001b[0;31m             \u001b[0;32mprint\u001b[0m \u001b[0;34m(\u001b[0m\u001b[0mj\u001b[0m\u001b[0;34m,\u001b[0m \u001b[0mcats\u001b[0m\u001b[0;34m[\u001b[0m\u001b[0mj\u001b[0m\u001b[0;34m]\u001b[0m\u001b[0;34m)\u001b[0m\u001b[0;34m\u001b[0m\u001b[0m\n\u001b[0m\u001b[1;32m     10\u001b[0m             \u001b[0mcv2\u001b[0m\u001b[0;34m.\u001b[0m\u001b[0mimshow\u001b[0m\u001b[0;34m(\u001b[0m\u001b[0;34m\"debug\"\u001b[0m\u001b[0;34m,\u001b[0m \u001b[0mnp\u001b[0m\u001b[0;34m.\u001b[0m\u001b[0mtranspose\u001b[0m\u001b[0;34m(\u001b[0m\u001b[0mviewbycat\u001b[0m\u001b[0;34m)\u001b[0m\u001b[0;34m)\u001b[0m\u001b[0;34m\u001b[0m\u001b[0m\n\u001b[1;32m     11\u001b[0m             \u001b[0mkey\u001b[0m \u001b[0;34m=\u001b[0m \u001b[0mcv2\u001b[0m\u001b[0;34m.\u001b[0m\u001b[0mwaitKey\u001b[0m\u001b[0;34m(\u001b[0m\u001b[0;36m0\u001b[0m\u001b[0;34m)\u001b[0m\u001b[0;34m\u001b[0m\u001b[0m\n",
      "\u001b[0;31mIndexError\u001b[0m: list index out of range"
     ],
     "output_type": "error"
    }
   ],
   "source": [
    "chksmap(lsmaps[(12, 23)], cat)\n",
    "# chksmap(lsmaps[(12, 29)], cat)\n",
    "### Check passedq\n",
    "\n"
   ],
   "metadata": {
    "collapsed": false,
    "pycharm": {
     "name": "#%%\n",
     "is_executing": false
    }
   }
  },
  {
   "cell_type": "markdown",
   "source": [
    "### CHECK navi_env functions"
   ],
   "metadata": {
    "collapsed": false,
    "pycharm": {
     "name": "#%% md\n",
     "is_executing": false
    }
   }
  },
  {
   "cell_type": "code",
   "execution_count": 1,
   "outputs": [],
   "source": [
    "from src.navi_env import Environment\n",
    "from src.utils import Foo\n",
    "houseid = '5cf0e1e9493994e483e985c436b9d3bc'\n",
    "navi = Foo(batch_size=4, map_orig_sizes=[11,21,31], \n",
    "           map_scales=[11, 21, 31], map_crop_sizes=[11]*3, map_channels=26)\n",
    "env = Environment(houseid, navi)"
   ],
   "metadata": {
    "collapsed": false,
    "pycharm": {
     "name": "#%%\n",
     "is_executing": false
    }
   }
  },
  {
   "cell_type": "code",
   "execution_count": 2,
   "outputs": [
    {
     "name": "stdout",
     "text": [
      "[[-5, 12, 1], [-5, 31, 2], [-11, 12, 3], [-5, 9, 1]]\n"
     ],
     "output_type": "stream"
    },
    {
     "data": {
      "text/plain": "[[-5, 12, 1], [-5, 31, 2], [-11, 12, 3], [-5, 9, 1]]"
     },
     "metadata": {},
     "output_type": "execute_result",
     "execution_count": 2
    }
   ],
   "source": [
    "import numpy as np\n",
    "rng = np.random.RandomState(1008)\n",
    "env.reset(rng, multi_target=['television', 'stand', 'desk', 'toilet'])"
   ],
   "metadata": {
    "collapsed": false,
    "pycharm": {
     "name": "#%% checked reset\n",
     "is_executing": false
    }
   }
  },
  {
   "cell_type": "code",
   "execution_count": 5,
   "outputs": [],
   "source": [
    "pos = env.startatPos([(9,25,1) for i in range(navi.batch_size)])\n",
    "# for i in range(10):\n",
    "#     print env.step([1,2,3,4,5,5,1,2])"
   ],
   "metadata": {
    "collapsed": false,
    "pycharm": {
     "name": "#%% Checked startatPos and step\n",
     "is_executing": false
    }
   }
  },
  {
   "cell_type": "code",
   "execution_count": 15,
   "outputs": [
    {
     "data": {
      "text/plain": "[1400, 1994, 3053, 734, 1590, 2743, 1943, 1320]"
     },
     "metadata": {},
     "output_type": "execute_result",
     "execution_count": 15
    }
   ],
   "source": [
    "env.get_batch_g_ids()"
   ],
   "metadata": {
    "collapsed": false,
    "pycharm": {
     "name": "#%% checked get_batch_g_ids()\n",
     "is_executing": false
    }
   }
  },
  {
   "cell_type": "code",
   "execution_count": 6,
   "outputs": [
    {
     "name": "stdout",
     "text": [
      "(4, u'ottoman')\n",
      "(21, u'bed')\n",
      "(23, u'stand')\n",
      "(25, 'other')\n"
     ],
     "output_type": "stream"
    }
   ],
   "source": [
    "a = env.get_state_locsmap(12,29,0,33)\n",
    "cat.append('other')\n",
    "chksmap(a, cat)"
   ],
   "metadata": {
    "collapsed": false,
    "pycharm": {
     "name": "#%% checked get_state_locsmap function\n",
     "is_executing": false
    }
   }
  },
  {
   "cell_type": "code",
   "execution_count": 3,
   "outputs": [],
   "source": [
    "a = env.get_batch_dist()"
   ],
   "metadata": {
    "collapsed": false,
    "pycharm": {
     "name": "#%% checked get_batch_dist\n",
     "is_executing": false
    }
   }
  },
  {
   "cell_type": "code",
   "execution_count": 11,
   "outputs": [],
   "source": [
    "a = env.get_batch_locsmaps(33)"
   ],
   "metadata": {
    "collapsed": false,
    "pycharm": {
     "name": "#%% checked get_batch_locsmaps\n",
     "is_executing": false
    }
   }
  },
  {
   "cell_type": "code",
   "execution_count": 12,
   "outputs": [],
   "source": [
    "a = env.get_batch_img('rgb')"
   ],
   "metadata": {
    "collapsed": false,
    "pycharm": {
     "name": "#%% checked get_batch_img\n",
     "is_executing": false
    }
   }
  },
  {
   "cell_type": "code",
   "execution_count": 13,
   "outputs": [],
   "source": [
    "a = env.success()"
   ],
   "metadata": {
    "collapsed": false,
    "pycharm": {
     "name": "#%% checked\n",
     "is_executing": false
    }
   }
  },
  {
   "cell_type": "code",
   "execution_count": 19,
   "outputs": [],
   "source": [
    "a = env.get_common_data()"
   ],
   "metadata": {
    "collapsed": false,
    "pycharm": {
     "name": "#%% checked\n",
     "is_executing": false
    }
   }
  },
  {
   "cell_type": "code",
   "execution_count": 6,
   "outputs": [],
   "source": [
    "a = env.get_step_data()"
   ],
   "metadata": {
    "collapsed": false,
    "pycharm": {
     "name": "#%% checked\n",
     "is_executing": false
    }
   }
  },
  {
   "cell_type": "code",
   "execution_count": 6,
   "outputs": [],
   "source": [
    "a = env.get_batch_gt_actions()"
   ],
   "metadata": {
    "collapsed": false,
    "pycharm": {
     "name": "#%%\n",
     "is_executing": false
    }
   }
  },
  {
   "cell_type": "code",
   "execution_count": 13,
   "outputs": [],
   "source": [
    "a = env.get_step_data_names()"
   ],
   "metadata": {
    "collapsed": false,
    "pycharm": {
     "name": "#%%\n",
     "is_executing": false
    }
   }
  },
  {
   "cell_type": "code",
   "execution_count": 3,
   "outputs": [],
   "source": [
    "a = env.get_batch_onehot_semantic()"
   ],
   "metadata": {
    "collapsed": false,
    "pycharm": {
     "name": "#%%\n",
     "is_executing": false
    }
   }
  },
  {
   "cell_type": "code",
   "execution_count": null,
   "outputs": [],
   "source": [
    "env.gt_loc_aseq[(-12, 39, 0)]"
   ],
   "metadata": {
    "collapsed": false,
    "pycharm": {
     "name": "#%%\n"
    }
   }
  },
  {
   "cell_type": "code",
   "execution_count": 21,
   "outputs": [
    {
     "name": "stdout",
     "text": [
      "[[10. 10. 10. 10.]\n [10. 12. 14. 16.]\n [10. 10. 10. 10.]]\n"
     ],
     "output_type": "stream"
    }
   ],
   "source": [
    "import tensorflow as tf\n",
    "a = tf.constant([\n",
    "    [[1, 2, 3, 4], [1,2,3,4]],\n",
    "    [[5, 6, 7, 8], [5,6,7,8]],\n",
    "    [[1, 2, 3, 4], [1,2,4,3]]\n",
    "], dtype=tf.float32)\n",
    "\n",
    "b = tf.reduce_sum(a, reduction_indices=1)\n",
    "c = tf.maximum(b, tf.constant(10.))\n",
    "# c = a / tf.reshape(b, (-1, 1))\n",
    "with tf.Session() as sess:\n",
    "    print sess.run(c)\n",
    "    "
   ],
   "metadata": {
    "collapsed": false,
    "pycharm": {
     "name": "#%%\n",
     "is_executing": false
    }
   }
  }
 ],
 "metadata": {
  "language_info": {
   "codemirror_mode": {
    "name": "ipython",
    "version": 2
   },
   "file_extension": ".py",
   "mimetype": "text/x-python",
   "name": "python",
   "nbconvert_exporter": "python",
   "pygments_lexer": "ipython2",
   "version": "2.7.6"
  },
  "kernelspec": {
   "name": "python2",
   "language": "python",
   "display_name": "Python 2"
  },
  "pycharm": {
   "stem_cell": {
    "cell_type": "raw",
    "source": [],
    "metadata": {
     "collapsed": false
    }
   }
  }
 },
 "nbformat": 4,
 "nbformat_minor": 0
}